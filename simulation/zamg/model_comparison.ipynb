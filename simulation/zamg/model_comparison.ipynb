{
 "cells": [
  {
   "cell_type": "code",
   "id": "initial_id",
   "metadata": {
    "collapsed": true,
    "ExecuteTime": {
     "end_time": "2024-08-18T12:27:14.671709Z",
     "start_time": "2024-08-18T12:27:12.024163Z"
    }
   },
   "source": [
    "\n",
    "\n",
    "import pandas as pd\n",
    "\n",
    "from base.training import mse_weighted\n",
    "from common import Predictor, DataStorage, L2Threshold\n",
    "from common.model_utils import load_model_tflite\n",
    "from simulation.model_simulator import ModelSimulator\n",
    "\n",
    "if mse_weighted:\n",
    "    print(\"mse_weighted loaded\")\n",
    "\n",
    "df_baseline = pd.read_pickle(\"zamg_vienna_hourly.pickle\")\n",
    "\n",
    "features = [\"TL\", \"P\", \"RF\", \"SO\"]\n",
    "df_baseline = df_baseline[features]\n",
    "df_baseline.dropna(inplace=True)\n",
    "\n",
    "df_2019_2019 = df_baseline[df_baseline.index.year == 2019]\n",
    "\n",
    "sim_data: pd.DataFrame = df_baseline.loc[df_baseline.index.year >= 2020]\n",
    "\n",
    "THRESHOLD = 1.0\n",
    "threshold = L2Threshold(THRESHOLD, [0], [0])\n",
    "\n",
    "sim_data"
   ],
   "outputs": [
    {
     "name": "stdout",
     "output_type": "stream",
     "text": [
      "mse_weighted loaded\n"
     ]
    },
    {
     "data": {
      "text/plain": [
       "                       TL       P    RF   SO\n",
       "time                                        \n",
       "2020-01-01 00:00:00   5.0  1012.4  60.0  0.0\n",
       "2020-01-01 00:10:00   5.0  1012.5  60.0  0.0\n",
       "2020-01-01 00:20:00   4.9  1012.5  61.0  0.0\n",
       "2020-01-01 00:30:00   4.9  1012.5  61.0  0.0\n",
       "2020-01-01 00:40:00   4.9  1012.6  60.0  0.0\n",
       "...                   ...     ...   ...  ...\n",
       "2021-12-31 23:10:00  15.3   999.2  59.0  0.0\n",
       "2021-12-31 23:20:00  15.2   999.3  59.0  0.0\n",
       "2021-12-31 23:30:00  15.2   999.3  59.0  0.0\n",
       "2021-12-31 23:40:00  15.0   999.7  59.0  0.0\n",
       "2021-12-31 23:50:00  14.9   999.6  59.0  0.0\n",
       "\n",
       "[105264 rows x 4 columns]"
      ],
      "text/html": [
       "<div>\n",
       "<style scoped>\n",
       "    .dataframe tbody tr th:only-of-type {\n",
       "        vertical-align: middle;\n",
       "    }\n",
       "\n",
       "    .dataframe tbody tr th {\n",
       "        vertical-align: top;\n",
       "    }\n",
       "\n",
       "    .dataframe thead th {\n",
       "        text-align: right;\n",
       "    }\n",
       "</style>\n",
       "<table border=\"1\" class=\"dataframe\">\n",
       "  <thead>\n",
       "    <tr style=\"text-align: right;\">\n",
       "      <th></th>\n",
       "      <th>TL</th>\n",
       "      <th>P</th>\n",
       "      <th>RF</th>\n",
       "      <th>SO</th>\n",
       "    </tr>\n",
       "    <tr>\n",
       "      <th>time</th>\n",
       "      <th></th>\n",
       "      <th></th>\n",
       "      <th></th>\n",
       "      <th></th>\n",
       "    </tr>\n",
       "  </thead>\n",
       "  <tbody>\n",
       "    <tr>\n",
       "      <th>2020-01-01 00:00:00</th>\n",
       "      <td>5.0</td>\n",
       "      <td>1012.4</td>\n",
       "      <td>60.0</td>\n",
       "      <td>0.0</td>\n",
       "    </tr>\n",
       "    <tr>\n",
       "      <th>2020-01-01 00:10:00</th>\n",
       "      <td>5.0</td>\n",
       "      <td>1012.5</td>\n",
       "      <td>60.0</td>\n",
       "      <td>0.0</td>\n",
       "    </tr>\n",
       "    <tr>\n",
       "      <th>2020-01-01 00:20:00</th>\n",
       "      <td>4.9</td>\n",
       "      <td>1012.5</td>\n",
       "      <td>61.0</td>\n",
       "      <td>0.0</td>\n",
       "    </tr>\n",
       "    <tr>\n",
       "      <th>2020-01-01 00:30:00</th>\n",
       "      <td>4.9</td>\n",
       "      <td>1012.5</td>\n",
       "      <td>61.0</td>\n",
       "      <td>0.0</td>\n",
       "    </tr>\n",
       "    <tr>\n",
       "      <th>2020-01-01 00:40:00</th>\n",
       "      <td>4.9</td>\n",
       "      <td>1012.6</td>\n",
       "      <td>60.0</td>\n",
       "      <td>0.0</td>\n",
       "    </tr>\n",
       "    <tr>\n",
       "      <th>...</th>\n",
       "      <td>...</td>\n",
       "      <td>...</td>\n",
       "      <td>...</td>\n",
       "      <td>...</td>\n",
       "    </tr>\n",
       "    <tr>\n",
       "      <th>2021-12-31 23:10:00</th>\n",
       "      <td>15.3</td>\n",
       "      <td>999.2</td>\n",
       "      <td>59.0</td>\n",
       "      <td>0.0</td>\n",
       "    </tr>\n",
       "    <tr>\n",
       "      <th>2021-12-31 23:20:00</th>\n",
       "      <td>15.2</td>\n",
       "      <td>999.3</td>\n",
       "      <td>59.0</td>\n",
       "      <td>0.0</td>\n",
       "    </tr>\n",
       "    <tr>\n",
       "      <th>2021-12-31 23:30:00</th>\n",
       "      <td>15.2</td>\n",
       "      <td>999.3</td>\n",
       "      <td>59.0</td>\n",
       "      <td>0.0</td>\n",
       "    </tr>\n",
       "    <tr>\n",
       "      <th>2021-12-31 23:40:00</th>\n",
       "      <td>15.0</td>\n",
       "      <td>999.7</td>\n",
       "      <td>59.0</td>\n",
       "      <td>0.0</td>\n",
       "    </tr>\n",
       "    <tr>\n",
       "      <th>2021-12-31 23:50:00</th>\n",
       "      <td>14.9</td>\n",
       "      <td>999.6</td>\n",
       "      <td>59.0</td>\n",
       "      <td>0.0</td>\n",
       "    </tr>\n",
       "  </tbody>\n",
       "</table>\n",
       "<p>105264 rows × 4 columns</p>\n",
       "</div>"
      ]
     },
     "execution_count": 1,
     "metadata": {},
     "output_type": "execute_result"
    }
   ],
   "execution_count": 1
  },
  {
   "metadata": {
    "ExecuteTime": {
     "end_time": "2024-08-18T12:41:02.889836Z",
     "start_time": "2024-08-18T12:27:14.672714Z"
    }
   },
   "cell_type": "code",
   "source": [
    "# Vienna 2019-2019 simple dense\n",
    "model = load_model_tflite(\"models/zamg_vienna_2019_2019_simple_dense\")\n",
    "metadata = model.metadata\n",
    "data_storage = DataStorage(metadata.input_features, metadata.output_features)\n",
    "data_storage.add_measurement_df(df_2019_2019)\n",
    "predictor = Predictor(model, data_storage)\n",
    "predictor.update_prediction_horizon(sim_data.index.min())\n",
    "model_simulator = ModelSimulator(predictor, threshold, sim_data)\n",
    "\n",
    "results_2019_2019 = model_simulator.run()\n",
    "results_2019_2019"
   ],
   "id": "e191bdb568accf5d",
   "outputs": [],
   "execution_count": 2
  },
  {
   "metadata": {
    "ExecuteTime": {
     "end_time": "2024-08-18T12:41:05.394707Z",
     "start_time": "2024-08-18T12:41:02.890924Z"
    }
   },
   "cell_type": "code",
   "source": [
    "import numpy as np\n",
    "\n",
    "results_2019_2019['violation'] = results_2019_2019.apply(\n",
    "    lambda row: threshold.is_threshold_violation(np.array([row['TL']]), np.array([row['prediction']])), axis=1\n",
    ")\n",
    "violations_2019_2019 = results_2019_2019[results_2019_2019['violation'] == True]\n",
    "print(f\"Simulation data: {results_2019_2019.index.min()} - {results_2019_2019.index.max()}\")\n",
    "print(f\"Violations: {len(violations_2019_2019)}\")\n",
    "print(f\"Measurements: {len(results_2019_2019)}\")\n",
    "print(f\"Violations / Measurements = {len(violations_2019_2019) / len(results_2019_2019)}\")"
   ],
   "id": "2a08904f09179b48",
   "outputs": [
    {
     "name": "stdout",
     "output_type": "stream",
     "text": [
      "Simulation data: 2020-01-01 01:00:00 - 2021-12-31 22:40:00\n",
      "Violations: 6947\n",
      "Measurements: 105264\n",
      "Violations / Measurements = 0.06599597203222374\n"
     ]
    }
   ],
   "execution_count": 3
  },
  {
   "metadata": {
    "ExecuteTime": {
     "end_time": "2024-08-18T12:51:14.203614Z",
     "start_time": "2024-08-18T12:41:05.395714Z"
    }
   },
   "cell_type": "code",
   "source": [
    "# Vienna 2010-2019 simple dense\n",
    "model = load_model_tflite(\"models/zamg_vienna_2010_2019_simple_dense\")\n",
    "metadata = model.metadata\n",
    "data_storage = DataStorage(metadata.input_features, metadata.output_features)\n",
    "data_storage.add_measurement_df(df_2019_2019)\n",
    "predictor = Predictor(model, data_storage)\n",
    "predictor.update_prediction_horizon(sim_data.index.min())\n",
    "model_simulator = ModelSimulator(predictor, threshold, sim_data)\n",
    "\n",
    "results_2010_2019 = model_simulator.run()\n",
    "results_2010_2019"
   ],
   "id": "9eee367c81a778fd",
   "outputs": [],
   "execution_count": 4
  },
  {
   "metadata": {
    "ExecuteTime": {
     "end_time": "2024-08-18T12:51:15.060948Z",
     "start_time": "2024-08-18T12:51:14.204619Z"
    }
   },
   "cell_type": "code",
   "source": [
    "results_2010_2019['violation'] = results_2010_2019.apply(\n",
    "    lambda row: threshold.is_threshold_violation(np.array([row['TL']]), np.array([row['prediction']])), axis=1\n",
    ")\n",
    "violations_2010_2019 = results_2010_2019[results_2010_2019['violation'] == True]\n",
    "print(f\"Simulation data: {results_2010_2019.index.min()} - {results_2010_2019.index.max()}\")\n",
    "print(f\"Violations: {len(violations_2010_2019)}\")\n",
    "print(f\"Measurements: {len(results_2010_2019)}\")\n",
    "print(f\"Violations / Measurements = {len(violations_2010_2019) / len(results_2010_2019)}\")"
   ],
   "id": "5d905338a21b6810",
   "outputs": [
    {
     "name": "stdout",
     "output_type": "stream",
     "text": [
      "Simulation data: 2020-01-01 00:00:00 - 2021-12-31 23:50:00\n",
      "Violations: 5778\n",
      "Measurements: 105264\n",
      "Violations / Measurements = 0.05489056087551299\n"
     ]
    }
   ],
   "execution_count": 5
  }
 ],
 "metadata": {
  "kernelspec": {
   "display_name": "Python 3",
   "language": "python",
   "name": "python3"
  },
  "language_info": {
   "codemirror_mode": {
    "name": "ipython",
    "version": 2
   },
   "file_extension": ".py",
   "mimetype": "text/x-python",
   "name": "python",
   "nbconvert_exporter": "python",
   "pygments_lexer": "ipython2",
   "version": "2.7.6"
  }
 },
 "nbformat": 4,
 "nbformat_minor": 5
}
